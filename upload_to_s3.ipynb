{
 "cells": [
  {
   "cell_type": "markdown",
   "id": "eeeab344-d740-4df1-bdb9-847e80ee2c91",
   "metadata": {},
   "source": [
    "# Upload to S3\n",
    "- data (~5.8GB)\n",
    "- configuration files (EMR bootstrap, EMR spark configuration)\n",
    "- apps, i.e. .py files executed as steps on EMR using spark-submit"
   ]
  },
  {
   "cell_type": "code",
   "execution_count": 7,
   "id": "f689c95d-2d54-4e29-90b7-846d5fceb110",
   "metadata": {},
   "outputs": [],
   "source": [
    "import boto3\n",
    "import glob\n",
    "import configparser\n",
    "import pathlib"
   ]
  },
  {
   "cell_type": "code",
   "execution_count": 8,
   "id": "5144e13b-5c94-4599-81bd-81a38de827e5",
   "metadata": {},
   "outputs": [
    {
     "data": {
      "text/plain": [
       "'us-east-1'"
      ]
     },
     "execution_count": 8,
     "metadata": {},
     "output_type": "execute_result"
    }
   ],
   "source": [
    "config = configparser.ConfigParser()\n",
    "config.read('config/prj.cfg')\n",
    "\n",
    "aws_region = config.get(\"AWS\", \"REGION\") \n",
    "access_id = config.get(\"AWS\", \"AWS_ACCESS_KEY_ID\") \n",
    "access_key = config.get(\"AWS\", \"AWS_SECRET_ACCESS_KEY\")\n",
    "aws_region"
   ]
  },
  {
   "cell_type": "code",
   "execution_count": 9,
   "id": "d44de482-fe9c-43ec-89ff-1ade6e51888a",
   "metadata": {},
   "outputs": [],
   "source": [
    "bucket_name = \"airbnbprj-us\""
   ]
  },
  {
   "cell_type": "code",
   "execution_count": 10,
   "id": "949cb3fa-da93-47bc-b036-0b0299a23087",
   "metadata": {},
   "outputs": [],
   "source": [
    "s3_client = boto3.client('s3',\n",
    "                          region_name=aws_region,\n",
    "                          aws_access_key_id=access_id,\n",
    "                          aws_secret_access_key=access_key)\n",
    "s3 = boto3.resource('s3')"
   ]
  },
  {
   "cell_type": "code",
   "execution_count": 11,
   "id": "4657357d-19ee-4e1b-a60b-f4efa3dc95b5",
   "metadata": {},
   "outputs": [],
   "source": [
    "data_parent = 'data'\n",
    "path_global_listings = 'airbnb-listings.csv'\n",
    "path_city_listings = 'cities/*/*/listings.csv'\n",
    "path_city_reviews = 'cities/*/*/reviews.csv'\n",
    "path_city_temperature = \"weather/ECA_blend_tg/*.txt\"\n",
    "path_city_rain = \"weather/ECA_blend_rr/*.txt\"\n",
    "s3_key = \"{}/{}\"\n",
    "\n",
    "# S3\n",
    "raw_data_folder = \"raw\""
   ]
  },
  {
   "cell_type": "code",
   "execution_count": null,
   "id": "5242ee78-d4cf-4ae6-9c34-a751fd5fd2c9",
   "metadata": {},
   "outputs": [],
   "source": [
    "s3_client.create_bucket(Bucket=bucket_name)\n",
    "#s3_client.create_bucket(Bucket=bucket_name,\n",
    "                       #CreateBucketConfiguration={'LocationConstraint': aws_region})"
   ]
  },
  {
   "cell_type": "code",
   "execution_count": 12,
   "id": "40481c65-cdeb-434f-a954-617dc0ceebd8",
   "metadata": {},
   "outputs": [
    {
     "name": "stdout",
     "output_type": "stream",
     "text": [
      "airbnb-listings.csv\n"
     ]
    }
   ],
   "source": [
    "for filepath in glob.glob(str(pathlib.Path(data_parent,*(path_global_listings.split(\"/\"))))):\n",
    "    print(\"/\".join(filepath.split(\"/\")[1:]))\n",
    "    s3_client.upload_file(filepath, bucket_name, s3_key.format(raw_data_folder, \"/\".join(filepath.split(\"/\")[1:])))    "
   ]
  },
  {
   "cell_type": "code",
   "execution_count": 13,
   "id": "eaf6f9f9-4f69-4102-a801-0ae2aee2f0ff",
   "metadata": {},
   "outputs": [
    {
     "name": "stdout",
     "output_type": "stream",
     "text": [
      "cities/Amsterdam/2021-03/listings.csv\n",
      "cities/Amsterdam/2021-02/listings.csv\n",
      "cities/Amsterdam/2021-01/listings.csv\n",
      "cities/Paris/2021-03/listings.csv\n",
      "cities/Paris/2021-02/listings.csv\n",
      "cities/Paris/2021-01/listings.csv\n",
      "cities/Berlin/2021-03/listings.csv\n",
      "cities/Berlin/2021-02/listings.csv\n",
      "cities/Berlin/2021-01/listings.csv\n",
      "cities/London/2021-03/listings.csv\n",
      "cities/London/2021-02/listings.csv\n",
      "cities/London/2021-01/listings.csv\n"
     ]
    }
   ],
   "source": [
    "for filepath in glob.glob(str(pathlib.Path(data_parent,*(path_city_listings.split(\"/\"))))):\n",
    "    print(\"/\".join(filepath.split(\"/\")[1:]))\n",
    "    s3_client.upload_file(filepath, bucket_name, s3_key.format(raw_data_folder, \"/\".join(filepath.split(\"/\")[1:])))"
   ]
  },
  {
   "cell_type": "code",
   "execution_count": 14,
   "id": "2f4d5e58-8434-4010-8633-17c68c828280",
   "metadata": {},
   "outputs": [
    {
     "name": "stdout",
     "output_type": "stream",
     "text": [
      "cities/Amsterdam/2021-03/reviews.csv\n",
      "cities/Amsterdam/2021-02/reviews.csv\n",
      "cities/Amsterdam/2021-01/reviews.csv\n",
      "cities/Paris/2021-03/reviews.csv\n",
      "cities/Paris/2021-02/reviews.csv\n",
      "cities/Paris/2021-01/reviews.csv\n",
      "cities/Berlin/2021-03/reviews.csv\n",
      "cities/Berlin/2021-02/reviews.csv\n",
      "cities/Berlin/2021-01/reviews.csv\n",
      "cities/London/2021-03/reviews.csv\n",
      "cities/London/2021-02/reviews.csv\n",
      "cities/London/2021-01/reviews.csv\n"
     ]
    }
   ],
   "source": [
    "for filepath in glob.glob(str(pathlib.Path(data_parent,*(path_city_reviews.split(\"/\"))))):\n",
    "    print(\"/\".join(filepath.split(\"/\")[1:]))\n",
    "    s3_client.upload_file(filepath, bucket_name, s3_key.format(raw_data_folder, \"/\".join(filepath.split(\"/\")[1:])))"
   ]
  },
  {
   "cell_type": "code",
   "execution_count": 15,
   "id": "f790f5ab-0a01-4cb1-b99b-c36d5a2e7a48",
   "metadata": {},
   "outputs": [
    {
     "name": "stdout",
     "output_type": "stream",
     "text": [
      "weather/ECA_blend_tg/TG_STAID011249.txt\n",
      "weather/ECA_blend_tg/TG_STAID000041.txt\n",
      "weather/ECA_blend_tg/TG_STAID000593.txt\n",
      "weather/ECA_blend_tg/TG_STAID001860.txt\n"
     ]
    }
   ],
   "source": [
    "for filepath in glob.glob(str(pathlib.Path(data_parent,*(path_city_temperature.split(\"/\"))))):\n",
    "    print(\"/\".join(filepath.split(\"/\")[1:]))\n",
    "    s3_client.upload_file(filepath, bucket_name, s3_key.format(raw_data_folder, \"/\".join(filepath.split(\"/\")[1:])))"
   ]
  },
  {
   "cell_type": "code",
   "execution_count": 16,
   "id": "0e2f2556-9176-4fb6-a241-4dfff9a26cbd",
   "metadata": {},
   "outputs": [
    {
     "name": "stdout",
     "output_type": "stream",
     "text": [
      "weather/ECA_blend_rr/RR_STAID000041.txt\n",
      "weather/ECA_blend_rr/RR_STAID000593.txt\n",
      "weather/ECA_blend_rr/RR_STAID011249.txt\n",
      "weather/ECA_blend_rr/RR_STAID001860.txt\n"
     ]
    }
   ],
   "source": [
    "for filepath in glob.glob(str(pathlib.Path(data_parent,*(path_city_rain.split(\"/\"))))):\n",
    "    print(\"/\".join(filepath.split(\"/\")[1:]))\n",
    "    s3_client.upload_file(filepath, bucket_name, s3_key.format(raw_data_folder, \"/\".join(filepath.split(\"/\")[1:])))   "
   ]
  },
  {
   "cell_type": "code",
   "execution_count": 6,
   "id": "9cffbe9c-dad9-4c12-bdd0-c204e37d1378",
   "metadata": {},
   "outputs": [],
   "source": [
    "# upload config\n",
    "filepaths = 'config/*'\n",
    "for filepath in glob.glob(filepaths):\n",
    "    s3_client.upload_file(filepath, bucket_name,filepath)   "
   ]
  },
  {
   "cell_type": "code",
   "execution_count": 13,
   "id": "109a2684-84f8-42c5-80f8-3c432515ca48",
   "metadata": {},
   "outputs": [],
   "source": [
    "# upload apps\n",
    "filepaths = 'apps/*'\n",
    "for filepath in glob.glob(filepaths):\n",
    "    s3_client.upload_file(filepath, bucket_name,filepath)   "
   ]
  }
 ],
 "metadata": {
  "kernelspec": {
   "display_name": "Python 3",
   "language": "python",
   "name": "python3"
  },
  "language_info": {
   "codemirror_mode": {
    "name": "ipython",
    "version": 3
   },
   "file_extension": ".py",
   "mimetype": "text/x-python",
   "name": "python",
   "nbconvert_exporter": "python",
   "pygments_lexer": "ipython3",
   "version": "3.7.10"
  }
 },
 "nbformat": 4,
 "nbformat_minor": 5
}
