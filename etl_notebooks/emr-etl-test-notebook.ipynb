{
 "cells": [
  {
   "cell_type": "markdown",
   "id": "831055ab-5c19-41ef-be8e-3878a753bd9a",
   "metadata": {},
   "source": [
    "# EMR ETL Test Notebook\n",
    "- this notebook is tested to run on AWS EMR cluster with configuration listed in docs/aws_create_cluster.txt and config/spark-config\n",
    "- run along with emr-etl-notebook.ipynb and assign the same kernel to share variables, e.g. path names\n",
    "- this notebook contains tests for the first two steps of the ETL\n",
    "    - **ETL Part I: preprocess raw data into parquet files**\n",
    "    - **ETL Part II: create dimensional model using the preprocessed data**\n",
    "        \n",
    "- first two parts of ETL are implemented in etl_notebooks/emr-etl-test-notebook.ipynb, alternatively run .py files in /apps folder\n",
    "- to run and test ETL Part III use redshift-etl-notebook.ipynb\n"
   ]
  },
  {
   "cell_type": "code",
   "execution_count": null,
   "id": "0a5f8902-79fc-414c-b14a-1568975b9a77",
   "metadata": {},
   "outputs": [],
   "source": [
    "sc.install_pypi_package(\"pandas\")\n",
    "import pandas as pd\n",
    "pd.set_option(\"display.max_columns\", None)"
   ]
  },
  {
   "cell_type": "markdown",
   "id": "7c9a5e0f",
   "metadata": {},
   "source": [
    "# Part I - preprocessing raw data"
   ]
  },
  {
   "cell_type": "code",
   "execution_count": null,
   "id": "671f9bbc",
   "metadata": {},
   "outputs": [],
   "source": [
    "df_listings_global = spark.read.parquet(path_out_global_listings)"
   ]
  },
  {
   "cell_type": "code",
   "execution_count": null,
   "id": "00e58c78",
   "metadata": {},
   "outputs": [],
   "source": [
    "df_listings_global.count()"
   ]
  },
  {
   "cell_type": "code",
   "execution_count": null,
   "id": "36a4c035",
   "metadata": {},
   "outputs": [],
   "source": [
    "df_listings_global.limit(10).toPandas()"
   ]
  },
  {
   "cell_type": "code",
   "execution_count": null,
   "id": "a469fd54",
   "metadata": {},
   "outputs": [],
   "source": [
    "df_city_listings = spark.read.parquet(path_out_city_listings_data)"
   ]
  },
  {
   "cell_type": "code",
   "execution_count": null,
   "id": "e3ea58dc",
   "metadata": {},
   "outputs": [],
   "source": [
    "df_city_listings.count()"
   ]
  },
  {
   "cell_type": "code",
   "execution_count": null,
   "id": "a0be4448",
   "metadata": {},
   "outputs": [],
   "source": [
    "df_city_listings.limit(10).toPandas()"
   ]
  },
  {
   "cell_type": "code",
   "execution_count": null,
   "id": "08980a4a",
   "metadata": {},
   "outputs": [],
   "source": [
    "df_city_reviews = spark.read.parquet(path_out_city_reviews_data)"
   ]
  },
  {
   "cell_type": "code",
   "execution_count": null,
   "id": "3d5b357e",
   "metadata": {},
   "outputs": [],
   "source": [
    "df_city_reviews.count()"
   ]
  },
  {
   "cell_type": "code",
   "execution_count": null,
   "id": "1ecc96d6",
   "metadata": {},
   "outputs": [],
   "source": [
    "df_city_reviews.limit(10).toPandas()"
   ]
  },
  {
   "cell_type": "code",
   "execution_count": null,
   "id": "80d68a2d",
   "metadata": {},
   "outputs": [],
   "source": [
    "df_temp = spark.read.parquet(path_out_city_temperature_data)"
   ]
  },
  {
   "cell_type": "code",
   "execution_count": null,
   "id": "28dfeb15",
   "metadata": {},
   "outputs": [],
   "source": [
    "df_temp.count()"
   ]
  },
  {
   "cell_type": "code",
   "execution_count": null,
   "id": "46d6d543",
   "metadata": {},
   "outputs": [],
   "source": [
    "df_temp.limit(10).toPandas()"
   ]
  },
  {
   "cell_type": "code",
   "execution_count": null,
   "id": "0c75dd13",
   "metadata": {},
   "outputs": [],
   "source": [
    "df_rain = spark.read.parquet(path_out_city_rain_data)"
   ]
  },
  {
   "cell_type": "code",
   "execution_count": null,
   "id": "eae223ae",
   "metadata": {},
   "outputs": [],
   "source": [
    "df_rain.count()"
   ]
  },
  {
   "cell_type": "code",
   "execution_count": null,
   "id": "d5b0ce9b",
   "metadata": {},
   "outputs": [],
   "source": [
    "df_rain.limit(10).toPandas()"
   ]
  },
  {
   "cell_type": "code",
   "execution_count": null,
   "id": "b4bfec2e",
   "metadata": {},
   "outputs": [],
   "source": [
    "df_stations = spark.read.parquet(path_out_weather_stations)"
   ]
  },
  {
   "cell_type": "code",
   "execution_count": null,
   "id": "bf184f83",
   "metadata": {},
   "outputs": [],
   "source": [
    "df_stations.count()"
   ]
  },
  {
   "cell_type": "code",
   "execution_count": null,
   "id": "fcf3af3b",
   "metadata": {},
   "outputs": [],
   "source": [
    "df_stations.limit(10).toPandas()"
   ]
  },
  {
   "cell_type": "markdown",
   "id": "1c22dbc4",
   "metadata": {},
   "source": [
    "# Part II - Dimensional model"
   ]
  },
  {
   "cell_type": "markdown",
   "id": "13a3288b",
   "metadata": {},
   "source": [
    "## Listings table"
   ]
  },
  {
   "cell_type": "code",
   "execution_count": null,
   "id": "5a319511",
   "metadata": {},
   "outputs": [],
   "source": [
    "df_listings = spark.read.csv(dim_model_listings_new,header=\"True\", inferSchema=\"True\",multiLine=\"True\",escape='\"',ignoreLeadingWhiteSpace=\"True\")"
   ]
  },
  {
   "cell_type": "code",
   "execution_count": null,
   "id": "9eb1957c",
   "metadata": {},
   "outputs": [],
   "source": [
    "df_listings.count()"
   ]
  },
  {
   "cell_type": "code",
   "execution_count": null,
   "id": "11d9dcc1",
   "metadata": {},
   "outputs": [],
   "source": [
    "df_listings.limit(10).toPandas()"
   ]
  },
  {
   "cell_type": "code",
   "execution_count": null,
   "id": "968435b9",
   "metadata": {},
   "outputs": [],
   "source": [
    "df_listings.select(\"listing_id\").dropDuplicates().count()"
   ]
  },
  {
   "cell_type": "code",
   "execution_count": null,
   "id": "738d79ad",
   "metadata": {},
   "outputs": [],
   "source": [
    "df_listings.select(\"listing_id\").filter(\"listing_id IS NULL\").show()"
   ]
  },
  {
   "cell_type": "markdown",
   "id": "709aeb9f",
   "metadata": {},
   "source": [
    "## Hosts table"
   ]
  },
  {
   "cell_type": "code",
   "execution_count": null,
   "id": "09330419",
   "metadata": {},
   "outputs": [],
   "source": [
    "df_hosts = spark.read.csv(dim_model_hosts_new,header=\"True\", inferSchema=\"True\",multiLine=\"True\",escape='\"',ignoreLeadingWhiteSpace=\"True\")"
   ]
  },
  {
   "cell_type": "code",
   "execution_count": null,
   "id": "6ad2331f",
   "metadata": {},
   "outputs": [],
   "source": [
    "df_hosts.count()"
   ]
  },
  {
   "cell_type": "code",
   "execution_count": null,
   "id": "13985a93",
   "metadata": {},
   "outputs": [],
   "source": [
    "df_hosts.limit(10).toPandas()"
   ]
  },
  {
   "cell_type": "code",
   "execution_count": null,
   "id": "5a5237c3",
   "metadata": {},
   "outputs": [],
   "source": [
    "df_hosts.select(\"host_id\").dropDuplicates().count()"
   ]
  },
  {
   "cell_type": "markdown",
   "id": "f324af51",
   "metadata": {},
   "source": [
    "## Weather table"
   ]
  },
  {
   "cell_type": "code",
   "execution_count": null,
   "id": "8e0f3f4e",
   "metadata": {},
   "outputs": [],
   "source": [
    "df_weather = spark.read.csv(dim_model_weather_new,header=\"True\", inferSchema=\"True\",multiLine=\"True\",escape='\"',ignoreLeadingWhiteSpace=\"True\")"
   ]
  },
  {
   "cell_type": "code",
   "execution_count": null,
   "id": "75f1d8e4",
   "metadata": {},
   "outputs": [],
   "source": [
    "df_weather.count()"
   ]
  },
  {
   "cell_type": "code",
   "execution_count": null,
   "id": "29b684f0",
   "metadata": {},
   "outputs": [],
   "source": [
    "df_weather.limit(10).toPandas()"
   ]
  },
  {
   "cell_type": "code",
   "execution_count": null,
   "id": "bd7da2c5",
   "metadata": {},
   "outputs": [],
   "source": [
    "df_weather.select(\"city\").groupBy(\"city\").count().orderBy(F.col(\"count\").desc()).show()"
   ]
  },
  {
   "cell_type": "markdown",
   "id": "f43bf7e9",
   "metadata": {},
   "source": [
    "## Reviews table"
   ]
  },
  {
   "cell_type": "code",
   "execution_count": null,
   "id": "df24227f",
   "metadata": {},
   "outputs": [],
   "source": [
    "df_reviews_step1 = spark.read.csv(dim_model_reviews_step1,header=\"True\", inferSchema=\"True\",multiLine=\"True\",escape='\"',ignoreLeadingWhiteSpace=\"True\")"
   ]
  },
  {
   "cell_type": "code",
   "execution_count": null,
   "id": "aa65b951",
   "metadata": {},
   "outputs": [],
   "source": [
    "df_reviews_step1.count()"
   ]
  },
  {
   "cell_type": "code",
   "execution_count": null,
   "id": "11de891e",
   "metadata": {},
   "outputs": [],
   "source": [
    "df_reviews_step1.limit(10).toPandas()"
   ]
  },
  {
   "cell_type": "code",
   "execution_count": null,
   "id": "90555dc6",
   "metadata": {},
   "outputs": [],
   "source": [
    "df_reviews_step1.select(\"review_id\").dropDuplicates().count()"
   ]
  },
  {
   "cell_type": "code",
   "execution_count": null,
   "id": "b0c52fa7",
   "metadata": {},
   "outputs": [],
   "source": [
    "df_reviews_step2 = spark.read.csv(dim_model_reviews_step2,header=\"True\", inferSchema=\"True\",multiLine=\"True\",escape='\"',ignoreLeadingWhiteSpace=\"True\")"
   ]
  },
  {
   "cell_type": "code",
   "execution_count": null,
   "id": "37cb8dfe",
   "metadata": {},
   "outputs": [],
   "source": [
    "df_reviews_step2.count()"
   ]
  },
  {
   "cell_type": "code",
   "execution_count": null,
   "id": "9d10b039",
   "metadata": {},
   "outputs": [],
   "source": [
    "df_reviews_step2.show(20)"
   ]
  },
  {
   "cell_type": "code",
   "execution_count": null,
   "id": "b398d562",
   "metadata": {},
   "outputs": [],
   "source": [
    "df_reviews = spark.read.csv(dim_model_reviews_new,header=\"True\", inferSchema=\"True\",multiLine=\"True\",escape='\"',ignoreLeadingWhiteSpace=\"True\")"
   ]
  },
  {
   "cell_type": "code",
   "execution_count": null,
   "id": "c223a0a0",
   "metadata": {},
   "outputs": [],
   "source": [
    "df_reviews.count()"
   ]
  },
  {
   "cell_type": "code",
   "execution_count": null,
   "id": "151f1b28",
   "metadata": {},
   "outputs": [],
   "source": [
    "df_reviews.show(20)"
   ]
  },
  {
   "cell_type": "code",
   "execution_count": null,
   "id": "adbe3c08",
   "metadata": {},
   "outputs": [],
   "source": [
    "df_reviews.groupBy(\"sentiment\").count().show()"
   ]
  },
  {
   "cell_type": "code",
   "execution_count": null,
   "id": "a8f0bd04",
   "metadata": {},
   "outputs": [],
   "source": [
    "df_reviews.filter(\"sentiment == 'neg'\").select(\"comments\").limit(3).collect()"
   ]
  },
  {
   "cell_type": "markdown",
   "id": "b62f62a0",
   "metadata": {},
   "source": [
    "## Reviewers table"
   ]
  },
  {
   "cell_type": "code",
   "execution_count": null,
   "id": "915e4640",
   "metadata": {},
   "outputs": [],
   "source": [
    "df_reviewers = spark.read.csv(dim_model_reviewers_new,header=\"True\", inferSchema=\"True\",multiLine=\"True\",escape='\"',ignoreLeadingWhiteSpace=\"True\")"
   ]
  },
  {
   "cell_type": "code",
   "execution_count": null,
   "id": "5504900e",
   "metadata": {},
   "outputs": [],
   "source": [
    "df_reviewers.count()"
   ]
  },
  {
   "cell_type": "code",
   "execution_count": null,
   "id": "2ea1acf0",
   "metadata": {},
   "outputs": [],
   "source": [
    "df_reviewers.select(\"reviewer_id\").dropDuplicates().count()"
   ]
  },
  {
   "cell_type": "code",
   "execution_count": null,
   "id": "6180379a",
   "metadata": {},
   "outputs": [],
   "source": [
    "df_reviewers.show(100)"
   ]
  },
  {
   "cell_type": "markdown",
   "id": "e2ac70aa",
   "metadata": {},
   "source": [
    "# Move tested model from temporary to final folder"
   ]
  },
  {
   "cell_type": "code",
   "execution_count": null,
   "id": "9eb50225-ffb9-4e83-a514-b763693baa73",
   "metadata": {},
   "outputs": [],
   "source": [
    "# if there is no new model, fail\n",
    "keys_new_model = [item['Key'] for item in s3_client.list_objects(Bucket=bucket_name, Prefix=dim_model_folder_new)['Contents']]\n",
    "\n",
    "# delete old model\n",
    "try:    \n",
    "    keys_old_model = [item['Key'] for item in s3_client.list_objects(Bucket=bucket_name, Prefix=dim_model_folder+\"/\")['Contents']]\n",
    "    for key in keys_old_model:     \n",
    "        s3.Object(bucket_name,key).delete() \n",
    "except:\n",
    "    # there is no old model to delete\n",
    "    pass\n",
    "\n",
    "# copy new model to final folder (i.e. old model folder)\n",
    "for key in keys_new_model:    \n",
    "    s3.Object(bucket_name,key.replace(dim_model_folder_new,dim_model_folder)).copy_from(CopySource=bucket_name+\"/\"+key)\n",
    "\n",
    "# delete new model\n",
    "for key in keys_new_model:     \n",
    "    s3.Object(bucket_name,key).delete()"
   ]
  }
 ],
 "metadata": {
  "kernelspec": {
   "display_name": "Python 3",
   "language": "python",
   "name": "python3"
  },
  "language_info": {
   "codemirror_mode": {
    "name": "ipython",
    "version": 3
   },
   "file_extension": ".py",
   "mimetype": "text/x-python",
   "name": "python",
   "nbconvert_exporter": "python",
   "pygments_lexer": "ipython3",
   "version": "3.7.10"
  }
 },
 "nbformat": 4,
 "nbformat_minor": 5
}
